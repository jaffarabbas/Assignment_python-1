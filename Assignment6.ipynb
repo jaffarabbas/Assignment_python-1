{
 "cells": [
  {
   "cell_type": "code",
   "execution_count": 3,
   "metadata": {},
   "outputs": [
    {
     "name": "stdout",
     "output_type": "stream",
     "text": [
      "Define Object Oriented Programming Language?\n",
      "Ans:\n",
      "OOP is a programming paradigm based on the concept of objects, which can contain data, in the form of fields (often known as attributes or properties), and code, in the form of procedures (often known as methods).\n"
     ]
    }
   ],
   "source": [
    "print(\"Define Object Oriented Programming Language?\")\n",
    "\n",
    "print(\"Ans:\")\n",
    "print(\"OOP is a programming paradigm based on the concept of objects, which can contain data, in the form of fields (often known as attributes or properties), and code, in the form of procedures (often known as methods).\")"
   ]
  },
  {
   "cell_type": "code",
   "execution_count": 16,
   "metadata": {},
   "outputs": [
    {
     "name": "stdout",
     "output_type": "stream",
     "text": [
      "List down the Benifits of OPP?\n",
      "Ans:\n",
      " The benefits of OOP are mentioned below:\n",
      "!)OOP provides a clear modular structure for programs\n",
      "2)It is good for defining abstract data types.\n",
      "3)Implementation details are hidden from other modules and other modules has a clearly defined interface.\n",
      "4)It is easy to maintain and modify existing code as new objects can be created with small differences to existing ones.\n",
      "5)objects, methods, instance, message passing, inheritance are some important properties provided by these particular languages\n",
      "6)encapsulation, polymorphism, abstraction are also counts in these fundamentals of programming language.\n",
      "7)It implements real life scenario.\n",
      "8)In OOP, programmer not only defines data types but also deals with operations applied for data structures.\n"
     ]
    }
   ],
   "source": [
    "print(\"List down the Benifits of OPP?\")\n",
    "\n",
    "print(\"Ans:\")\n",
    "print(\" The benefits of OOP are mentioned below:\")\n",
    "print(\"1)OOP provides a clear modular structure for programs\\n2)It is good for defining abstract data types.\")\n",
    "print(\"3)Implementation details are hidden from other modules and other modules has a clearly defined interface.\")\n",
    "print(\"4)It is easy to maintain and modify existing code as new objects can be created with small differences to existing ones.\")\n",
    "print(\"5)objects, methods, instance, message passing, inheritance are some important properties provided by these particular languages\")\n",
    "print(\"6)encapsulation, polymorphism, abstraction are also counts in these fundamentals of programming language.\")\n",
    "print(\"7)It implements real life scenario.\")\n",
    "print(\"8)In OOP, programmer not only defines data types but also deals with operations applied for data structures.\")"
   ]
  },
  {
   "cell_type": "code",
   "execution_count": 18,
   "metadata": {},
   "outputs": [
    {
     "name": "stdout",
     "output_type": "stream",
     "text": [
      "\t\t\tDifference between method and function\n",
      "Simply, function and method both look similar as they perform in almost similar way, but the key difference is the concept of ‘Class and its Object‘.\n",
      "Functions can be called only by its name, as it is defined independently. But methods can’t be called by its name only, we need to invoke the class by a reference of that class in which it is defined, i.e. method is defined within a class and hence they are dependent on that class.\n"
     ]
    }
   ],
   "source": [
    "print(\"\\t\\t\\tDifference between method and function\")\n",
    "print(\"1)Simply, function and method both look similar as they perform in almost similar way, but the key difference is the concept of ‘Class and its Object‘.\")\n",
    "print(\"2)Functions can be called only by its name, as it is defined independently. But methods can’t be called by its name only, we need to invoke the class by a reference of that class in which it is defined, i.e. method is defined within a class and hence they are dependent on that class.\")"
   ]
  },
  {
   "cell_type": "code",
   "execution_count": 21,
   "metadata": {},
   "outputs": [
    {
     "name": "stdout",
     "output_type": "stream",
     "text": [
      "Question 4: Define the following terms: \n",
      "1.Class \n",
      "2.Object \n",
      "3.Attribute \n",
      "4.Behavior\n",
      "Classes (OOP) In object-oriented programming, a class is a blueprint for creating objects (a particular data structure), providing initial values for state (member variables or attributes), and implementations of behavior (member functions or methods). The user-defined objects are created using the class keyword.\n",
      "\n",
      "In object-oriented programming (OOP), objects are the things you think about first in designing a program and they are also the units of code that are eventually derived from the process. .Each object is an instance of a particular class or subclass with the class's own methods or procedures and data variables.\n",
      "\n",
      "In Object-oriented programming(OOP), classes and objects have attributes. Attributes are data stored inside a class or instance and represent the state or quality of the class or instance.\n",
      "\n",
      "The behavior of an object is defined by its methods, which are the functions and subroutines defined within the object class.\n",
      "\n"
     ]
    }
   ],
   "source": [
    "print(\"Question 4: Define the following terms: \\n1.Class \\n2.Object \\n3.Attribute \\n4.Behavior\")\n",
    "print(\"Classes (OOP) In object-oriented programming, a class is a blueprint for creating objects (a particular data structure), providing initial values for state (member variables or attributes), and implementations of behavior (member functions or methods). The user-defined objects are created using the class keyword.\\n\")\n",
    "print(\"In object-oriented programming (OOP), objects are the things you think about first in designing a program and they are also the units of code that are eventually derived from the process. .Each object is an instance of a particular class or subclass with the class's own methods or procedures and data variables.\\n\")\n",
    "print(\"In Object-oriented programming(OOP), classes and objects have attributes. Attributes are data stored inside a class or instance and represent the state or quality of the class or instance.\\n\")\n",
    "print(\"The behavior of an object is defined by its methods, which are the functions and subroutines defined within the object class.\\n\")"
   ]
  },
  {
   "cell_type": "code",
   "execution_count": 27,
   "metadata": {},
   "outputs": [
    {
     "ename": "NameError",
     "evalue": "name 'self' is not defined",
     "output_type": "error",
     "traceback": [
      "\u001b[1;31m---------------------------------------------------------------------------\u001b[0m",
      "\u001b[1;31mNameError\u001b[0m                                 Traceback (most recent call last)",
      "\u001b[1;32m<ipython-input-27-d4d4f5ccde39>\u001b[0m in \u001b[0;36m<module>\u001b[1;34m\u001b[0m\n\u001b[0;32m      2\u001b[0m \u001b[1;31m#Object Oreanted programming\u001b[0m\u001b[1;33m\u001b[0m\u001b[1;33m\u001b[0m\u001b[1;33m\u001b[0m\u001b[0m\n\u001b[0;32m      3\u001b[0m \u001b[1;31m#class with method\u001b[0m\u001b[1;33m\u001b[0m\u001b[1;33m\u001b[0m\u001b[1;33m\u001b[0m\u001b[0m\n\u001b[1;32m----> 4\u001b[1;33m \u001b[1;32mclass\u001b[0m \u001b[0mcar\u001b[0m\u001b[1;33m(\u001b[0m\u001b[0mself\u001b[0m\u001b[1;33m,\u001b[0m\u001b[0mnewmodel\u001b[0m\u001b[1;33m,\u001b[0m\u001b[0mnewname\u001b[0m\u001b[1;33m)\u001b[0m\u001b[1;33m:\u001b[0m\u001b[1;33m\u001b[0m\u001b[1;33m\u001b[0m\u001b[0m\n\u001b[0m\u001b[0;32m      5\u001b[0m     \u001b[1;31m#instantiation method\u001b[0m\u001b[1;33m\u001b[0m\u001b[1;33m\u001b[0m\u001b[1;33m\u001b[0m\u001b[0m\n\u001b[0;32m      6\u001b[0m     \u001b[1;32mdef\u001b[0m \u001b[0m_init_\u001b[0m\u001b[1;33m(\u001b[0m\u001b[0mself\u001b[0m\u001b[1;33m,\u001b[0m\u001b[0mmodel\u001b[0m\u001b[1;33m,\u001b[0m\u001b[0mcolor\u001b[0m\u001b[1;33m,\u001b[0m\u001b[0mname\u001b[0m\u001b[1;33m,\u001b[0m\u001b[0mauto\u001b[0m\u001b[1;33m,\u001b[0m\u001b[0mmanual\u001b[0m\u001b[1;33m)\u001b[0m\u001b[1;33m:\u001b[0m\u001b[1;33m\u001b[0m\u001b[1;33m\u001b[0m\u001b[0m\n",
      "\u001b[1;31mNameError\u001b[0m: name 'self' is not defined"
     ]
    }
   ],
   "source": [
    "#Question 5\n",
    "#Object Oreanted programming\n",
    "#class with method\n",
    "class car(self,newmodel,newname):\n",
    "    #instantiation method\n",
    "    def _init_(self,model,color,name,auto,manual):\n",
    "        #Attributes and attributes names\n",
    "        self.model = model\n",
    "        self.color = color\n",
    "        self.name = name\n",
    "        self.auto = auto\n",
    "        self.manual = manual\n",
    "        # self is a prefix \n",
    "        \n",
    "    def modelname(self,newmodel,newname):\n",
    "        self.model = newmodel\n",
    "        self.name = newname\n",
    "        \n",
    "    def automanual(self,newauto,newmanual):\n",
    "        self.auto = newauto\n",
    "        self.manual = newmanual\n",
    "        \n",
    "    def carcolor(self,newcolor):\n",
    "        self.color = newcolor\n",
    "        \n",
    "        \n",
    "#object instance\n",
    "car1 = car(1997,'Black','Vigo','Auto','manual as well as')\n",
    "print(car1.name,'\\n',car1.model,'\\n',car1.color,'\\n',car1.manual,'\\n',car1.auto)\n",
    "\n",
    "car2 = car(1997,'Black','Vigo','Auto','manual as well as')\n",
    "car2.modelname(2000,'vigo135 gig')\n",
    "print(\"\\t\\t================\")\n",
    "print(car2.name,'\\n',car2.model,'\\n',car2.color,'\\n',car2.manual,'\\n',car2.auto)\n",
    "\n",
    "\n",
    "car3 = car(1997,'Black','Vigo','Auto','manual as well as')\n",
    "car3.automanual('No auto facility','But Manual')\n",
    "print(\"\\t\\t================\")\n",
    "print(car3.name,'\\n',car3.model,'\\n',car3.color,'\\n',car3.auto,'\\n',car3.manual)\n",
    "\n",
    "car4 = car(1997,'Black','Vigo','Auto','manual as well as')\n",
    "car4.carcolor('Red')\n",
    "print(\"\\t\\t================\")\n",
    "print(car4.name,'\\n',car4.model,'\\n',car4.color,'\\n',car4.auto,'\\n',car4.manual)\n",
    "\n",
    "car5 = car(1997,'Black','Vigo','Auto','manual as well as')\n",
    "car5.modelname(2015,'Honda city')\n",
    "car5.automanual('Auto facilities','As well as Manual')\n",
    "car5.carcolor('Dark Blue')\n",
    "print(\"\\t\\t================\")\n",
    "print(car5.name,'\\n',car5.model,'\\n',car5.color,'\\n',car5.auto,'\\n',car5.manual)"
   ]
  },
  {
   "cell_type": "code",
   "execution_count": null,
   "metadata": {},
   "outputs": [],
   "source": []
  }
 ],
 "metadata": {
  "kernelspec": {
   "display_name": "Python 3",
   "language": "python",
   "name": "python3"
  },
  "language_info": {
   "codemirror_mode": {
    "name": "ipython",
    "version": 3
   },
   "file_extension": ".py",
   "mimetype": "text/x-python",
   "name": "python",
   "nbconvert_exporter": "python",
   "pygments_lexer": "ipython3",
   "version": "3.7.4"
  }
 },
 "nbformat": 4,
 "nbformat_minor": 2
}
